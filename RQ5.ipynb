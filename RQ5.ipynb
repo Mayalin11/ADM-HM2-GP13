{
 "cells": [
  {
   "cell_type": "code",
   "execution_count": 46,
   "metadata": {},
   "outputs": [],
   "source": [
    "import pandas as pd"
   ]
  },
  {
   "cell_type": "code",
   "execution_count": 47,
   "metadata": {},
   "outputs": [],
   "source": [
    "buffer=1000000\n",
    "frames=[]\n",
    "for month in ['01','02','03','04','05']:\n",
    "    a=pd.read_csv(\"yellow_tripdata_2018-\"+month+\".csv\", nrows=buffer,\n",
    "                             usecols=['tpep_pickup_datetime','tpep_dropoff_datetime','trip_distance'])\n",
    "    frames.append(a)\n",
    "df = pd.concat(frames)"
   ]
  },
  {
   "cell_type": "code",
   "execution_count": 49,
   "metadata": {},
   "outputs": [
    {
     "name": "stdout",
     "output_type": "stream",
     "text": [
      "<class 'pandas.core.frame.DataFrame'>\n",
      "Int64Index: 4968456 entries, 0 to 999999\n",
      "Data columns (total 3 columns):\n",
      "tpep_pickup_datetime     4968456 non-null object\n",
      "tpep_dropoff_datetime    4968456 non-null object\n",
      "trip_distance            4968456 non-null float64\n",
      "dtypes: float64(1), object(2)\n",
      "memory usage: 151.6+ MB\n"
     ]
    }
   ],
   "source": [
    "df.info(null_counts=True) #Checking the NaN values "
   ]
  },
  {
   "cell_type": "code",
   "execution_count": 50,
   "metadata": {},
   "outputs": [],
   "source": [
    "df=df[df.trip_distance > 0.00] # eliminating those rows that are included in zero values of 'trip_distance'"
   ]
  },
  {
   "cell_type": "code",
   "execution_count": 51,
   "metadata": {},
   "outputs": [],
   "source": [
    "from datetime import datetime\n",
    "from datetime import timedelta\n",
    "def getRowDuration(row):\n",
    "    dateFormat='%Y-%m-%d %H:%M:%S'\n",
    "    pickup = datetime.strptime(row['tpep_pickup_datetime'], dateFormat)\n",
    "    dropoff = datetime.strptime(row['tpep_dropoff_datetime'], dateFormat)\n",
    "    tdelta = (dropoff - pickup).seconds / 3600\n",
    "    return tdelta\n",
    "\n",
    "df['duration']=df.apply(getRowDuration, axis=1)"
   ]
  },
  {
   "cell_type": "code",
   "execution_count": 52,
   "metadata": {},
   "outputs": [
    {
     "data": {
      "image/png": "[encoded data removed]",
      "text/plain": [
       "<Figure size 432x288 with 1 Axes>"
      ]
     },
     "metadata": {},
     "output_type": "display_data"
    }
   ],
   "source": [
    "# Plotting the dependency between 'trip distance' & 'duration'\n",
    "import matplotlib\n",
    "import matplotlib.pyplot as plt\n",
    "%matplotlib inline\n",
    "matplotlib.style.use('ggplot')\n",
    "plt.scatter(x= df['trip_distance'], y= df['duration'])\n",
    "plt.xlabel(\"trip_distance\")\n",
    "plt.ylabel(\"duration\")\n",
    "plt.title(\"Scatter_Plot\")\n",
    "plt.show()"
   ]
  },
  {
   "cell_type": "code",
   "execution_count": 54,
   "metadata": {},
   "outputs": [
    {
     "name": "stdout",
     "output_type": "stream",
     "text": [
      "The Pearson correlation coefficient is:0.15\n"
     ]
    }
   ],
   "source": [
    "# Calculating the Pearson correlation coefficient\n",
    "from scipy.stats import pearsonr\n",
    "corr, p_value = pearsonr(df['trip_distance'], df['duration'])\n",
    "print (\"The Pearson correlation coefficient is:\" + str(\"%0.2f\"%corr))"
   ]
  },
  {
   "cell_type": "markdown",
   "metadata": {},
   "source": [
    "### Conclusions"
   ]
  },
  {
   "cell_type": "markdown",
   "metadata": {},
   "source": [
    "#### According to Scatter Plot & Pearson Coefficient (R), we can conclude that there is no dependency between 'trip distance' & 'duration' and couple of reasons can be mentioned for this end:\n",
    "\n",
    "#### 1. Traffic can be one reason which affects the duration while distance is constant\n",
    "#### 2. Also, as can be seen, approximately, all the trips with long distances have low duration (highway), on the other hand, we can see that there is a lot of  trips with short distances but long durations (traffic). \n",
    "#### 3. Other situations can also be mentioned such as, Weather, Speed, and so on. "
   ]
  }
 ],
 "metadata": {
  "kernelspec": {
   "display_name": "Python 3",
   "language": "python",
   "name": "python3"
  },
  "language_info": {
   "codemirror_mode": {
    "name": "ipython",
    "version": 3
   },
   "file_extension": ".py",
   "mimetype": "text/x-python",
   "name": "python",
   "nbconvert_exporter": "python",
   "pygments_lexer": "ipython3",
   "version": "3.7.0"
  }
 },
 "nbformat": 4,
 "nbformat_minor": 2
}
