{
 "cells": [
  {
   "cell_type": "code",
   "execution_count": 2,
   "metadata": {},
   "outputs": [],
   "source": [
    "import pandas as pd\n",
    "\n",
    "#Timestamp stuff\n",
    "from datetime import datetime\n",
    "from datetime import timedelta\n",
    "\n",
    "#Plotting stuff\n",
    "import matplotlib\n",
    "import matplotlib.pyplot as plt\n",
    "%matplotlib inline"
   ]
  },
  {
   "cell_type": "code",
   "execution_count": 34,
   "metadata": {},
   "outputs": [],
   "source": [
    "buffer=100000\n",
    "df = pd.DataFrame()\n",
    "for month in ['01','02','03','04','05']:\n",
    "    a=pd.read_csv(\"/Users/ince/Desktop/uni/adm/hws/hw2/yellow_tripdata_2018-\"+month+\".csv\", nrows=buffer,\n",
    "                             usecols=['tpep_pickup_datetime','tpep_dropoff_datetime','trip_distance'])\n",
    "    df = df.append(a)\n",
    "    del a"
   ]
  },
  {
   "cell_type": "code",
   "execution_count": 35,
   "metadata": {},
   "outputs": [
    {
     "name": "stdout",
     "output_type": "stream",
     "text": [
      "<class 'pandas.core.frame.DataFrame'>\n",
      "Int64Index: 500000 entries, 0 to 99999\n",
      "Data columns (total 3 columns):\n",
      "tpep_pickup_datetime     500000 non-null object\n",
      "tpep_dropoff_datetime    500000 non-null object\n",
      "trip_distance            500000 non-null float64\n",
      "dtypes: float64(1), object(2)\n",
      "memory usage: 15.3+ MB\n"
     ]
    }
   ],
   "source": [
    "df.info(null_counts=True) #Checking the NaN values "
   ]
  },
  {
   "cell_type": "code",
   "execution_count": 31,
   "metadata": {},
   "outputs": [],
   "source": [
    "df=df[df.trip_distance > 0.00] # eliminating those rows that are included in zero values of 'trip_distance'"
   ]
  },
  {
   "cell_type": "code",
   "execution_count": 36,
   "metadata": {},
   "outputs": [],
   "source": [
    "#improvable, vectorizing this using pandas.DataFrame.dt.*\n",
    "def getRowDuration(row):\n",
    "    dateFormat='%Y-%m-%d %H:%M:%S'\n",
    "    pickup = datetime.strptime(row['tpep_pickup_datetime'], dateFormat)\n",
    "    dropoff = datetime.strptime(row['tpep_dropoff_datetime'], dateFormat)\n",
    "    tdelta = (dropoff - pickup).seconds / 3600\n",
    "    return tdelta\n",
    "\n",
    "df['duration']=df.apply(getRowDuration, axis=1)"
   ]
  },
  {
   "cell_type": "code",
   "execution_count": 37,
   "metadata": {},
   "outputs": [
    {
     "data": {
      "image/png": "[encoded data removed]",
      "text/plain": [
       "<Figure size 432x288 with 1 Axes>"
      ]
     },
     "metadata": {},
     "output_type": "display_data"
    }
   ],
   "source": [
    "# Plotting the dependency between 'trip distance' & 'duration'\n",
    "\n",
    "matplotlib.style.use('ggplot')\n",
    "plt.scatter(x= df['trip_distance'], y= df['duration'])\n",
    "plt.xlabel(\"trip_distance\")\n",
    "plt.ylabel(\"duration\")\n",
    "plt.title(\"Scatter_Plot\")\n",
    "plt.show()"
   ]
  },
  {
   "cell_type": "code",
   "execution_count": 38,
   "metadata": {},
   "outputs": [
    {
     "name": "stdout",
     "output_type": "stream",
     "text": [
      "The Pearson correlation coefficient is:0.13\n"
     ]
    }
   ],
   "source": [
    "# Calculating the Pearson correlation coefficient\n",
    "from scipy.stats import pearsonr\n",
    "corr, p_value = pearsonr(df['trip_distance'], df['duration'])\n",
    "print (\"The Pearson correlation coefficient is:\" + str(\"%0.2f\"%corr))"
   ]
  },
  {
   "cell_type": "markdown",
   "metadata": {},
   "source": [
    "### Conclusions"
   ]
  },
  {
   "cell_type": "markdown",
   "metadata": {},
   "source": [
    "#### According to Scatter Plot & Pearson Coefficient (R), we can conclude that there is no dependency between 'trip distance' & 'duration' and couple of reasons can be mentioned for this end:\n",
    "\n",
    "#### 1. Traffic can be one reason which affects the duration while distance is constant\n",
    "#### 2. Also, as can be seen, approximately, all the trips with long distances have low duration (highway), on the other hand, we can see that there is a lot of  trips with short distances but long durations (traffic). \n",
    "#### 3. Other situations can also be mentioned such as, Weather, Speed, and so on. "
   ]
  }
 ],
 "metadata": {
  "kernelspec": {
   "display_name": "Python 3",
   "language": "python",
   "name": "python3"
  },
  "language_info": {
   "codemirror_mode": {
    "name": "ipython",
    "version": 3
   },
   "file_extension": ".py",
   "mimetype": "text/x-python",
   "name": "python",
   "nbconvert_exporter": "python",
   "pygments_lexer": "ipython3",
   "version": "3.6.6"
  },
  "varInspector": {
   "cols": {
    "lenName": 16,
    "lenType": 16,
    "lenVar": 40
   },
   "kernels_config": {
    "python": {
     "delete_cmd_postfix": "",
     "delete_cmd_prefix": "del ",
     "library": "var_list.py",
     "varRefreshCmd": "print(var_dic_list())"
    },
    "r": {
     "delete_cmd_postfix": ") ",
     "delete_cmd_prefix": "rm(",
     "library": "var_list.r",
     "varRefreshCmd": "cat(var_dic_list()) "
    }
   },
   "types_to_exclude": [
    "module",
    "function",
    "builtin_function_or_method",
    "instance",
    "_Feature"
   ],
   "window_display": false
  }
 },
 "nbformat": 4,
 "nbformat_minor": 2
}
