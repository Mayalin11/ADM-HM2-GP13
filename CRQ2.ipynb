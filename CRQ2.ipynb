{
 "cells": [
  {
   "cell_type": "markdown",
   "metadata": {},
   "source": [
    "# CRQ2\n",
    "###### Visualize Taxis movements! NYC is divided in many Taxis zones. For each yellow cab trip we know the zone the Taxi pick up and drop off the users. Let's visualize, on a chropleth map, the number of trips that starts in each zone. Than, do another map to count the races that end up in the single zone. Comment your discoveries. To perform this task we use the library folium. "
   ]
  },
  {
   "cell_type": "code",
   "execution_count": null,
   "metadata": {},
   "outputs": [],
   "source": [
    "import pandas as pd\n",
    "import folium\n",
    "import json"
   ]
  },
  {
   "cell_type": "markdown",
   "metadata": {},
   "source": [
    "### Loading Data\n",
    "\n",
    "**Variables explaination**: <br>\n",
    "*df* : contains two columns, PULocationID and DOLocationID, respectively: the location id for the pickup and the dropoff of the trip record, this DataFrame is the core for the next steps. <br>\n",
    "*geo_data* :"
   ]
  },
  {
   "cell_type": "code",
   "execution_count": null,
   "metadata": {},
   "outputs": [],
   "source": [
    "df = pd.DataFrame()\n",
    "for month in ['01', '02', '03', '04', '05']:\n",
    "        df = df.append(pd.DataFrame(pd.read_csv(\"yellow_tripdata_2018-\"+month+\".csv\", nrows=10000, usecols=['PULocationID', 'DOLocationID'])), ignore_index = True)\n",
    "\n",
    "geo_data = json.load(open('taxi_zones.json'))\n",
    "df.head()"
   ]
  },
  {
   "cell_type": "markdown",
   "metadata": {},
   "source": [
    "The next chunk creates a simple map with the coordinates of New York City, as you can see, it's empty: in the next chunks we fill it with data"
   ]
  },
  {
   "cell_type": "code",
   "execution_count": null,
   "metadata": {
    "scrolled": true
   },
   "outputs": [],
   "source": [
    "NYmap=folium.Map(\n",
    "    location=[40.7142700, -74.0059700],   #coordinates of new York\n",
    "    zoom_start=11,                        \n",
    "    tiles='CartoDB positron'              #style of our map\n",
    ")\n",
    "NYmap"
   ]
  },
  {
   "cell_type": "markdown",
   "metadata": {},
   "source": [
    "*This shows the recorded zones*: at this moment there are no pickups or dropoffs in the map. <br>\n",
    "We want only to show the zone were data were registered."
   ]
  },
  {
   "cell_type": "code",
   "execution_count": null,
   "metadata": {
    "scrolled": true
   },
   "outputs": [],
   "source": [
    "folium.GeoJson(\n",
    "    geo_data,\n",
    "    style_function=lambda feature: {\n",
    "        'fillColor':'blue',\n",
    "        'color' : 'orchid',\n",
    "        'weight' : 1,\n",
    "        'fillOpacity' : 0.5,\n",
    "        'colorOpacity' : 0.5\n",
    "    }\n",
    ").add_to(NYmap)\n",
    "\n",
    "NYmap\n"
   ]
  },
  {
   "cell_type": "markdown",
   "metadata": {},
   "source": [
    "**Core of data manipulation** <br>"
   ]
  },
  {
   "cell_type": "code",
   "execution_count": null,
   "metadata": {},
   "outputs": [],
   "source": [
    "location_id_to_number_of_pickups=df.groupby('PULocationID')['PULocationID'].count()\n",
    "location_id_to_number_of_dropoff=df.groupby('DOLocationID')['DOLocationID'].count()\n",
    "\n",
    "location_id_to_number_of_pickups.head()\n",
    "\n",
    "df_zone_to_pickup_to_dropoff=pd.DataFrame(index=list(range(1,266)),columns=[])\n",
    "df_zone_to_pickup_to_dropoff['ZoneID']=list(range(1,266))\n",
    "\n",
    "zone_index_to_dropoff_number = []\n",
    "zone_index_to_pickup_number = []\n",
    "\n",
    "for i in range(1,266):\n",
    "    if i in location_id_to_number_of_pickups:\n",
    "        zone_index_to_pickup_number.append(location_id_to_number_of_pickups[i])\n",
    "    else:\n",
    "        zone_index_to_pickup_number.append(0)    \n",
    "        \n",
    "    if i in location_id_to_number_of_dropoff:\n",
    "        zone_index_to_dropoff_number.append(location_id_to_number_of_dropoff[i])\n",
    "    else:\n",
    "        zone_index_to_dropoff_number.append(0)     #we need to do this check becouse some zones are missing (maybe 0 taxi taken in that zone)\n",
    "\n",
    "df_zone_to_pickup_to_dropoff['taxi_pickups'] = zone_index_to_pickup_number\n",
    "df_zone_to_pickup_to_dropoff['taxi_dropoff'] = zone_index_to_dropoff_number\n",
    "df_zone_to_pickup_to_dropoff.head()"
   ]
  },
  {
   "cell_type": "markdown",
   "metadata": {},
   "source": [
    "Now he have our fixed data frame that we can use to create our fantastic Choropleth maps.\n"
   ]
  },
  {
   "cell_type": "code",
   "execution_count": null,
   "metadata": {},
   "outputs": [],
   "source": [
    "NYmap2 = folium.Map(\n",
    "    location=[40.7142700, -74.0059700],   #coordinates of new York\n",
    "    zoom_start=11,                        \n",
    "    tiles='CartoDB positron'              #style of our map\n",
    ")\n",
    "\n",
    "NYmap2.choropleth(\n",
    "    geo_data=geo_data,  #our geojson datas\n",
    "    data=df_zone_to_pickup_to_dropoff,    #our dataframe\n",
    "    columns=['ZoneID', 'taxi_pickups'],\n",
    "    key_on='feature.properties.LocationID', #the key in geojson file that way want to take as zone\n",
    "    fill_color='YlGnBu',   #the color scale that we want\n",
    "    fill_opacity=0.8,\n",
    "    line_opacity=0.2,\n",
    "    legend_name='Number of taxi taken in 2018',\n",
    "    highlight=True    #enable the highlight function, to enable highlight functionality when you hover over each area.\n",
    ")\n",
    "\n",
    "folium.Marker(\n",
    "    location=[40.7730135746, -73.8702298524],\n",
    "    popup='Airport LaGuardia',\n",
    "    icon=folium.Icon(icon='plane')\n",
    ").add_to(NYmap2)\n",
    "\n",
    "folium.Marker(\n",
    "    location=[40.6413111, -73.7781391],\n",
    "    popup='John F. Kennedy International Airport',\n",
    "    icon=folium.Icon(icon='plane')\n",
    ").add_to(NYmap2)\n",
    "\n",
    "folium.Marker(\n",
    "    location=[40.7828647, -73.9653551],\n",
    "    popup = 'Central Park',\n",
    "    icon=folium.Icon(color='red')\n",
    ").add_to(NYmap2)\n",
    "\n",
    "folium.Marker(\n",
    "    location=[40.758895, -73.985131],\n",
    "    popup = 'Times Square',\n",
    "    icon=folium.Icon(color='red')\n",
    ").add_to(NYmap2)\n",
    "\n",
    "folium.Marker(\n",
    "    location=[40.7061927, -74.0091604],\n",
    "    popup = 'Wall Street',\n",
    "    icon=folium.Icon(color='red')\n",
    ").add_to(NYmap2)\n",
    "\n",
    "folium.Marker(\n",
    "    location=[40.692013, -74.181557],\n",
    "    popup='Newark Liberty International Airport',\n",
    "    icon=folium.Icon(icon='plane')\n",
    ").add_to(NYmap2)\n",
    "\n",
    "NYmap2"
   ]
  },
  {
   "cell_type": "markdown",
   "metadata": {},
   "source": [
    "Now we want to do same job but for drop location."
   ]
  },
  {
   "cell_type": "code",
   "execution_count": null,
   "metadata": {},
   "outputs": [],
   "source": [
    "NYmap3 = folium.Map(\n",
    "    location=[40.7142700, -74.0059700],   #coordinates of new York\n",
    "    zoom_start=11,                        \n",
    "    tiles='CartoDB positron'              #style of our map\n",
    ")\n",
    "\n",
    "NYmap3.choropleth(\n",
    "    geo_data=geo_data,\n",
    "    data=df_zone_to_pickup_to_dropoff,\n",
    "    columns=['ZoneID', 'taxi_dropoff'],\n",
    "    key_on='feature.properties.LocationID',\n",
    "    fill_color='YlGnBu',\n",
    "    fill_opacity=0.8,\n",
    "    line_opacity=0.2,\n",
    "    legend_name='Number of taxi drops in 2018',\n",
    "    highlight=True    \n",
    ")\n",
    "folium.Marker(\n",
    "    location=[40.7730135746, -73.8702298524],\n",
    "    popup='LaGuardia Airport',\n",
    "    icon=folium.Icon(icon='plane')\n",
    ").add_to(NYmap3)\n",
    "\n",
    "folium.Marker(\n",
    "    location=[40.6413111, -73.7781391],\n",
    "    popup='John F. Kennedy International Airport',\n",
    "    icon=folium.Icon(icon='plane')\n",
    ").add_to(NYmap3)\n",
    "\n",
    "folium.Marker(\n",
    "    location=[40.7828647, -73.9653551],\n",
    "    popup = 'Central Park',\n",
    "    icon=folium.Icon(color='red')\n",
    ").add_to(NYmap3)\n",
    "\n",
    "folium.Marker(\n",
    "    location=[40.758895, -73.985131],\n",
    "    popup = 'Times Square',\n",
    "    icon=folium.Icon(color='red')\n",
    ").add_to(NYmap3)\n",
    "\n",
    "folium.Marker(\n",
    "    location=[40.7061927, -74.0091604],\n",
    "    popup = 'Wall Street',\n",
    "    icon=folium.Icon(color='red')\n",
    ").add_to(NYmap3)\n",
    "\n",
    "folium.Marker(\n",
    "    location=[40.692013, -74.181557],\n",
    "    popup='Newark Liberty International Airport',\n",
    "    icon=folium.Icon(icon='plane')\n",
    ").add_to(NYmap3)\n",
    "\n",
    "NYmap3"
   ]
  },
  {
   "cell_type": "markdown",
   "metadata": {},
   "source": [
    "## RESULTS\n",
    "\n",
    "As we can appreciate from maps, use of Yellow taxis is highly concentrated in Manhattan. This is true for taxi drops and even more for taxi pickups.\n",
    "We see that, outside Manhattan, we have two other zones where taxi are used a lot.Predictably, One is \"John Fitzgerald Kennedy International\", the other one is \"La Guardia\" airport."
   ]
  }
 ],
 "metadata": {
  "kernelspec": {
   "display_name": "Python 3",
   "language": "python",
   "name": "python3"
  },
  "language_info": {
   "codemirror_mode": {
    "name": "ipython",
    "version": 3
   },
   "file_extension": ".py",
   "mimetype": "text/x-python",
   "name": "python",
   "nbconvert_exporter": "python",
   "pygments_lexer": "ipython3",
   "version": "3.6.6"
  },
  "varInspector": {
   "cols": {
    "lenName": 16,
    "lenType": 16,
    "lenVar": 40
   },
   "kernels_config": {
    "python": {
     "delete_cmd_postfix": "",
     "delete_cmd_prefix": "del ",
     "library": "var_list.py",
     "varRefreshCmd": "print(var_dic_list())"
    },
    "r": {
     "delete_cmd_postfix": ") ",
     "delete_cmd_prefix": "rm(",
     "library": "var_list.r",
     "varRefreshCmd": "cat(var_dic_list()) "
    }
   },
   "oldHeight": 318,
   "position": {
    "height": "340px",
    "left": "1070px",
    "right": "18px",
    "top": "120px",
    "width": "352px"
   },
   "types_to_exclude": [
    "module",
    "function",
    "builtin_function_or_method",
    "instance",
    "_Feature"
   ],
   "varInspector_section_display": "block",
   "window_display": false
  }
 },
 "nbformat": 4,
 "nbformat_minor": 2
}
