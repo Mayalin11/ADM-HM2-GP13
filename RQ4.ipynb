{
 "cells": [
  {
   "cell_type": "markdown",
   "metadata": {},
   "source": [
    "What is the most common way of payments?* Discover the way payments are executed in each borough and visualize the number of payments for any possible means. Then run the [*Chi-squared test*](http://learntech.uwe.ac.uk/da/Default.aspx?pageid=1440) to see whether the method of payment is correlated to the borough. Then, comment the results."
   ]
  },
  {
   "cell_type": "code",
   "execution_count": 1,
   "metadata": {},
   "outputs": [],
   "source": [
    "import pandas as pd\n",
    "import scipy.stats as stat"
   ]
  },
  {
   "cell_type": "code",
   "execution_count": 2,
   "metadata": {},
   "outputs": [],
   "source": [
    "number_to_payment = {1: \"Credit Card\",2: \"Cash\",3: \"No Charge\", 4: \"Dispute\",5: \"Unknown\",6: \"Voided Trip\"}"
   ]
  },
  {
   "cell_type": "code",
   "execution_count": 17,
   "metadata": {},
   "outputs": [],
   "source": [
    "df = pd.DataFrame()\n",
    "\n",
    "payment = []\n",
    "zoneId = []\n",
    "df['payment'] = pd.Series()\n",
    "df['LocationID'] = pd.Series()\n",
    "buffer = 10000\n",
    "#, nrows=buffer*100\n",
    "for month in ['01', '02', '03', '04', '05']:\n",
    "    for chunk in pd.read_csv(\"yellow_tripdata_2018-\"+month+\".csv\", chunksize=buffer, nrows=buffer*10, usecols=['payment_type', 'PULocationID']):\n",
    "            for payment_type in chunk['payment_type']:\n",
    "                payment.append(number_to_payment[payment_type])\n",
    "            zoneId += (list(chunk['PULocationID'])) # I have to store the location id of the pickup, concatenating at the end of a list\n",
    "\n",
    "    df = df.append(pd.DataFrame({'payment': pd.Series(payment),'LocationID':pd.Series(zoneId)}), ignore_index=True)\n",
    "    payment = []\n",
    "    zoneId = []\n",
    "\n",
    "\n",
    "zone_lookup = pd.read_csv(\"taxi_zone_lookup.csv\") # this dataset have a map between the LocationID and Borough\n",
    "df = df.merge(zone_lookup[['LocationID', 'Borough']], how='inner' ,on='LocationID').fillna(\"\") #Inner join between the interested columns and the previous dataset\n",
    "df = df[['payment', 'Borough']]"
   ]
  },
  {
   "cell_type": "markdown",
   "metadata": {},
   "source": [
    "Per ogni quartiere fare un barplot, sulle X ci sta il payment method e sulle Y ci sta la frequenza delle occorrenze"
   ]
  },
  {
   "cell_type": "code",
   "execution_count": 18,
   "metadata": {},
   "outputs": [],
   "source": [
    "dic = {el:{} for el in set(df['Borough'])}\n",
    "df2 = pd.DataFrame(columns=[el for el in set(df['Borough'])],  index=[el for el in set(df['payment'])])\n",
    "for key in dic.keys():\n",
    "    df2[key] = df.loc[df['Borough'] == key].groupby('payment').count().rename(index=str, columns={'Borough':key})\n",
    "df2 = df2.T.fillna(0)"
   ]
  },
  {
   "cell_type": "code",
   "execution_count": 19,
   "metadata": {},
   "outputs": [
    {
     "data": {
      "text/plain": [
       "<matplotlib.axes._subplots.AxesSubplot at 0x1098fb8d0>"
      ]
     },
     "execution_count": 19,
     "metadata": {},
     "output_type": "execute_result"
    },
    {
     "data": {
      "image/png": "[encoded data removed]",
      "text/plain": [
       "<Figure size 432x288 with 1 Axes>"
      ]
     },
     "metadata": {
      "needs_background": "light"
     },
     "output_type": "display_data"
    }
   ],
   "source": [
    "df2.plot(kind='bar')"
   ]
  },
  {
   "cell_type": "code",
   "execution_count": 21,
   "metadata": {},
   "outputs": [
    {
     "data": {
      "text/plain": [
       "(62168.01024508471,\n",
       " 0.0,\n",
       " 18,\n",
       " array([[1.35063864e+04, 2.40010826e+02, 3.17853858e+04, 6.42169570e+01],\n",
       "        [2.18558428e+05, 3.88382113e+03, 5.14346602e+05, 1.03914968e+03],\n",
       "        [9.40790491e+02, 1.67180100e+01, 2.21401845e+03, 4.47304710e+00],\n",
       "        [1.21689683e+07, 2.16244675e+05, 2.86379599e+07, 5.78581192e+04],\n",
       "        [1.96689196e+02, 3.49520109e+00, 4.62880432e+02, 9.35171056e-01],\n",
       "        [8.24505409e+05, 1.46516040e+04, 1.94035782e+06, 3.92016242e+03],\n",
       "        [1.65933996e+05, 2.94867586e+03, 3.90502384e+05, 7.88943541e+02]]))"
      ]
     },
     "execution_count": 21,
     "metadata": {},
     "output_type": "execute_result"
    }
   ],
   "source": [
    "stat.chi2_contingency(df2)"
   ]
  },
  {
   "cell_type": "code",
   "execution_count": 22,
   "metadata": {},
   "outputs": [
    {
     "data": {
      "text/html": [
       "<div>\n",
       "<style scoped>\n",
       "    .dataframe tbody tr th:only-of-type {\n",
       "        vertical-align: middle;\n",
       "    }\n",
       "\n",
       "    .dataframe tbody tr th {\n",
       "        vertical-align: top;\n",
       "    }\n",
       "\n",
       "    .dataframe thead th {\n",
       "        text-align: right;\n",
       "    }\n",
       "</style>\n",
       "<table border=\"1\" class=\"dataframe\">\n",
       "  <thead>\n",
       "    <tr style=\"text-align: right;\">\n",
       "      <th></th>\n",
       "      <th>Cash</th>\n",
       "      <th>No Charge</th>\n",
       "      <th>Credit Card</th>\n",
       "      <th>Dispute</th>\n",
       "    </tr>\n",
       "  </thead>\n",
       "  <tbody>\n",
       "    <tr>\n",
       "      <th>Bronx</th>\n",
       "      <td>22009</td>\n",
       "      <td>1302</td>\n",
       "      <td>21984</td>\n",
       "      <td>301</td>\n",
       "    </tr>\n",
       "    <tr>\n",
       "      <th>Unknown</th>\n",
       "      <td>218658</td>\n",
       "      <td>8971</td>\n",
       "      <td>508173</td>\n",
       "      <td>2026</td>\n",
       "    </tr>\n",
       "    <tr>\n",
       "      <th>EWR</th>\n",
       "      <td>473</td>\n",
       "      <td>190</td>\n",
       "      <td>2472</td>\n",
       "      <td>41</td>\n",
       "    </tr>\n",
       "    <tr>\n",
       "      <th>Manhattan</th>\n",
       "      <td>12137138</td>\n",
       "      <td>189359</td>\n",
       "      <td>28702118</td>\n",
       "      <td>52416</td>\n",
       "    </tr>\n",
       "    <tr>\n",
       "      <th>Staten Island</th>\n",
       "      <td>268</td>\n",
       "      <td>39</td>\n",
       "      <td>347</td>\n",
       "      <td>10</td>\n",
       "    </tr>\n",
       "    <tr>\n",
       "      <th>Queens</th>\n",
       "      <td>824387</td>\n",
       "      <td>30958</td>\n",
       "      <td>1920761</td>\n",
       "      <td>7329</td>\n",
       "    </tr>\n",
       "    <tr>\n",
       "      <th>Brooklyn</th>\n",
       "      <td>189677</td>\n",
       "      <td>7170</td>\n",
       "      <td>361774</td>\n",
       "      <td>1553</td>\n",
       "    </tr>\n",
       "  </tbody>\n",
       "</table>\n",
       "</div>"
      ],
      "text/plain": [
       "                   Cash  No Charge  Credit Card  Dispute\n",
       "Bronx             22009       1302        21984      301\n",
       "Unknown          218658       8971       508173     2026\n",
       "EWR                 473        190         2472       41\n",
       "Manhattan      12137138     189359     28702118    52416\n",
       "Staten Island       268         39          347       10\n",
       "Queens           824387      30958      1920761     7329\n",
       "Brooklyn         189677       7170       361774     1553"
      ]
     },
     "execution_count": 22,
     "metadata": {},
     "output_type": "execute_result"
    }
   ],
   "source": [
    "df2"
   ]
  },
  {
   "cell_type": "code",
   "execution_count": 23,
   "metadata": {},
   "outputs": [],
   "source": [
    "del df"
   ]
  },
  {
   "cell_type": "code",
   "execution_count": null,
   "metadata": {},
   "outputs": [],
   "source": []
  }
 ],
 "metadata": {
  "kernelspec": {
   "display_name": "Python 3",
   "language": "python",
   "name": "python3"
  },
  "language_info": {
   "codemirror_mode": {
    "name": "ipython",
    "version": 3
   },
   "file_extension": ".py",
   "mimetype": "text/x-python",
   "name": "python",
   "nbconvert_exporter": "python",
   "pygments_lexer": "ipython3",
   "version": "3.6.6"
  },
  "varInspector": {
   "cols": {
    "lenName": 16,
    "lenType": 16,
    "lenVar": 40
   },
   "kernels_config": {
    "python": {
     "delete_cmd_postfix": "",
     "delete_cmd_prefix": "del ",
     "library": "var_list.py",
     "varRefreshCmd": "print(var_dic_list())"
    },
    "r": {
     "delete_cmd_postfix": ") ",
     "delete_cmd_prefix": "rm(",
     "library": "var_list.r",
     "varRefreshCmd": "cat(var_dic_list()) "
    }
   },
   "oldHeight": 334,
   "position": {
    "height": "40px",
    "left": "963px",
    "right": "127px",
    "top": "162px",
    "width": "350px"
   },
   "types_to_exclude": [
    "module",
    "function",
    "builtin_function_or_method",
    "instance",
    "_Feature"
   ],
   "varInspector_section_display": "none",
   "window_display": true
  }
 },
 "nbformat": 4,
 "nbformat_minor": 2
}
