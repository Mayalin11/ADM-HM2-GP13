{
 "cells": [
  {
   "cell_type": "markdown",
   "metadata": {},
   "source": [
    "1. [__CRQ1__]: *Does the fare for mile change across NY's borough?* We want to discover whether the expenses of a user that enjoys Taxis in one zone is different from those that uses it in another one. \n",
    "    * Considering the fare amount, we want to compute the price per mile  ![equation](https://latex.codecogs.com/gif.latex?P) for each trip:\n",
    "        - Run the mean and the standard deviation of the variable. Then plot the distribution. What do you see?\n",
    "        - Run a statistical test that checks if the average price for mile in each borough is significantly different from the average price in New York\n",
    "        - Can you say that statistically significant differences, on the averages, hold among zones? In other words, are Taxis trip in some boroughs, on average, more expensive than others? \n",
    "    * The price per mile might depend on traffic the Taxi finds on its way. So we try to mitigate this effect:\n",
    "        - Likely, the duration of the trip says something about the city's congestion, especially if combined with the distances. It might be a good idea to weight the price for mile using the average time ![equation](https://latex.codecogs.com/gif.latex?T) needed to travel one mile. Thus, instead of ![equation](https://latex.codecogs.com/gif.latex?P), you can use ![equation](https://latex.codecogs.com/gif.latex?P^\\prime&space;=&space;P&space;\\cdot&space;T) \n",
    "        - Run the mean and the standard deviation of the new variable. Then plot the distribution. What do you see?\n",
    "        - Run a statistical test that checks if the average *weighted* price for mile in each borough is significantly different from the average price in New York\n",
    "        - Can you say that statistically significant differences, on the averages, hold among zones? In other words, are Taxis trip in some boroughs, on average, more expensive than others?            \n",
    "    * Compare the results obtained for the price per mile and the weighted price for mile. What do you think about that?\n",
    "   "
   ]
  },
  {
   "cell_type": "markdown",
   "metadata": {},
   "source": [
    "## References\n",
    "https://en.wikipedia.org/wiki/Taxicabs_of_New_York_City\n",
    "http://cs229.stanford.edu/proj2016/report/AntoniadesFadaviFobaAmonJuniorNewYorkCityCabPricing-report.pdf\n",
    "https://www.kaggle.com/selfishgene/yellow-cabs-tell-the-story-of-new-york-city"
   ]
  },
  {
   "cell_type": "code",
   "execution_count": null,
   "metadata": {},
   "outputs": [],
   "source": [
    "#Libraries\n",
    "import pandas as pd\n",
    "import scipy.stats as stat\n",
    "from datetime import datetime\n",
    "from collections import Counter\n",
    "import numpy as np\n",
    "import matplotlib.pyplot as plt"
   ]
  },
  {
   "cell_type": "markdown",
   "metadata": {},
   "source": [
    "## Loading and cleanup"
   ]
  },
  {
   "cell_type": "code",
   "execution_count": null,
   "metadata": {},
   "outputs": [],
   "source": [
    "df = pd.DataFrame() #this is the main dataframe, i'll store the columns that i need to work out here\n",
    "df['Distance'] = pd.Series() #Here will be the trip distance\n",
    "df['Fare'] = pd.Series() #Here will be the Fare amout of the trip\n",
    "df['LocationID'] = pd.Series() #I need this for join the data frame with another one that maps the borough by it's id\n",
    "df['$/mile'] = pd.Series() # fare / distance\n",
    "buffer = 100 #this is for memory purpose\n",
    "\n",
    "putime = pd.Series()\n",
    "dotime = pd.Series()\n",
    "#for every month\n",
    "for month in ['01', '02', '03', '04', '05', '06']:\n",
    "    #for every slice of the dataset\n",
    "    for chunk in pd.read_csv(\"yellow_tripdata_2018-\"+month+\".csv\", chunksize=buffer, nrows=10000, usecols=['trip_distance', 'fare_amount', 'PULocationID', 'tpep_pickup_datetime', 'tpep_dropoff_datetime']):\n",
    "        #append the chunk to my dataframe\n",
    "        df = df.append(pd.DataFrame({'Distance': pd.Series(chunk['trip_distance']),'Fare':pd.Series(chunk['fare_amount']), 'LocationID':pd.Series(chunk['PULocationID'])}), ignore_index = True)\n",
    "        putime = putime.append(pd.to_datetime(chunk['tpep_pickup_datetime']), ignore_index=True)\n",
    "        dotime = dotime.append(pd.to_datetime(chunk['tpep_dropoff_datetime']), ignore_index=True)\n",
    "        \n",
    "#after the nested loop i have to perform some manipulations in order to have the complete the dataframe \n",
    "zone_lookup = pd.read_csv(\"taxi_zone_lookup.csv\") # this dataset have a map between the LocationID and Borough\n",
    "df = df.merge(zone_lookup[['LocationID', 'Borough']], how='inner' ,on='LocationID').fillna(0) #Inner join between the interested columns and the previous dataset\n",
    "df = df.loc[(df['Distance'] > 0) & (df['Fare'] > 0)].reset_index() #removing the 0-distance records\n",
    "df = df.drop(['LocationID', 'index'], axis=1) #drop useless columns\n",
    "\n",
    "putime = putime.loc[putime.dt.year > 2017]\n",
    "dotime = dotime.loc[dotime.dt.year > 2017]\n",
    "\n",
    "df['$/mile'] = df['Fare'] / df['Distance'] #calc the dollar per mile amount\n",
    "df['Deltatime'] = ((dotime-putime).dt.seconds)/60\n",
    "df['$*minutes/mile'] = df['$/mile']*df['Deltatime']"
   ]
  },
  {
   "cell_type": "code",
   "execution_count": null,
   "metadata": {},
   "outputs": [],
   "source": [
    "#questo time ha pagato 14 dollari per stare 24h dentro un taxi\n",
    "display(putime.loc[6611])\n",
    "display(dotime.loc[6611])\n",
    "display(df.loc[6611])"
   ]
  },
  {
   "cell_type": "markdown",
   "metadata": {},
   "source": [
    "## $\\mu$ and $\\sigma$ for the entire city"
   ]
  },
  {
   "cell_type": "code",
   "execution_count": 1,
   "metadata": {},
   "outputs": [
    {
     "ename": "NameError",
     "evalue": "name 'df' is not defined",
     "output_type": "error",
     "traceback": [
      "\u001b[0;31m---------------------------------------------------------------------------\u001b[0m",
      "\u001b[0;31mNameError\u001b[0m                                 Traceback (most recent call last)",
      "\u001b[0;32m<ipython-input-1-5ca852d16d52>\u001b[0m in \u001b[0;36m<module>\u001b[0;34m()\u001b[0m\n\u001b[0;32m----> 1\u001b[0;31m \u001b[0mnew_york_dollar_per_mile_mean\u001b[0m \u001b[0;34m=\u001b[0m \u001b[0mdf\u001b[0m\u001b[0;34m[\u001b[0m\u001b[0;34m'$/mile'\u001b[0m\u001b[0;34m]\u001b[0m\u001b[0;34m.\u001b[0m\u001b[0mmean\u001b[0m\u001b[0;34m(\u001b[0m\u001b[0;34m)\u001b[0m\u001b[0;34m\u001b[0m\u001b[0m\n\u001b[0m\u001b[1;32m      2\u001b[0m \u001b[0mnew_york_dollar_per_mile_std\u001b[0m \u001b[0;34m=\u001b[0m \u001b[0mdf\u001b[0m\u001b[0;34m[\u001b[0m\u001b[0;34m'$/mile'\u001b[0m\u001b[0;34m]\u001b[0m\u001b[0;34m.\u001b[0m\u001b[0mstd\u001b[0m\u001b[0;34m(\u001b[0m\u001b[0;34m)\u001b[0m\u001b[0;34m\u001b[0m\u001b[0m\n",
      "\u001b[0;31mNameError\u001b[0m: name 'df' is not defined"
     ]
    }
   ],
   "source": [
    "new_york_dollar_per_mile_mean = df['$/mile'].mean()\n",
    "new_york_dollar_per_mile_std = df['$/mile'].std()"
   ]
  },
  {
   "cell_type": "markdown",
   "metadata": {},
   "source": [
    "## Plotting the distribution of the random variable P = Fare_amout / mile"
   ]
  },
  {
   "cell_type": "code",
   "execution_count": null,
   "metadata": {},
   "outputs": [],
   "source": [
    "labels, values = zip(*Counter(df['$/mile'].round(decimals=0)).items())\n",
    "\n",
    "indexes = np.arange(len(labels))\n",
    "width = 2\n",
    "\n",
    "plt.bar(indexes, values, width)\n",
    "plt.show()"
   ]
  },
  {
   "cell_type": "markdown",
   "metadata": {},
   "source": [
    "## $\\mu$ and $\\sigma$ for every borough"
   ]
  },
  {
   "cell_type": "code",
   "execution_count": null,
   "metadata": {},
   "outputs": [],
   "source": [
    "mean = df.groupby('Borough').mean()['$/mile'] #this groups by borough, calc the mean and takes only the column that i want to plot\n",
    "std = df.groupby('Borough').std()['$/mile'] #same as above, but for the standard deviaton"
   ]
  },
  {
   "cell_type": "code",
   "execution_count": null,
   "metadata": {},
   "outputs": [],
   "source": [
    "df2 = pd.DataFrame([mean, std], columns=[el for el in set(df['Borough'])],  index=['mean', 'std']) #combine the previous result in a dataframe"
   ]
  },
  {
   "cell_type": "code",
   "execution_count": null,
   "metadata": {},
   "outputs": [],
   "source": [
    "df2"
   ]
  },
  {
   "cell_type": "code",
   "execution_count": null,
   "metadata": {},
   "outputs": [],
   "source": [
    "df2.plot(kind='bar')\n",
    "df2.T.plot(kind='bar')"
   ]
  },
  {
   "cell_type": "markdown",
   "metadata": {},
   "source": [
    "## Ttest and p-value\n",
    "\n",
    "the variables are related, so ttest_ind does not works and ttest_rel want arrays of same length"
   ]
  },
  {
   "cell_type": "code",
   "execution_count": null,
   "metadata": {},
   "outputs": [],
   "source": [
    "df3 = pd.DataFrame(columns=[el for el in set(df['Borough'])],  index=['ttest', 'pval'])\n",
    "for borough in set(df['Borough']):\n",
    "    ttest_result = stat.ttest_ind(df.loc[df['Borough'] == borough]['$/mile'], df['$/mile'])\n",
    "    df3[borough] = pd.Series([ttest_result[0], ttest_result[1]], index=['ttest', 'pval'])"
   ]
  },
  {
   "cell_type": "code",
   "execution_count": null,
   "metadata": {},
   "outputs": [],
   "source": [
    "x = range(len(set(df3)))\n",
    "x_labels = set(df3)\n",
    "y = [df3[i][0] for i in x_labels]\n",
    "\n",
    "markerline, stemlines, baseline = plt.stem(x,y, '-.')\n",
    "plt.setp(baseline, color='orchid', linewidth=1)\n",
    "plt.title('TTest')\n",
    "plt.xticks(x, x_labels, rotation='vertical')\n",
    "plt.show()\n",
    "\n",
    "y = [df3[i][1] for i in x_labels]\n",
    "\n",
    "markerline, stemlines, baseline = plt.stem(x,y, '-.')\n",
    "plt.setp(baseline, color='orchid', linewidth=1)\n",
    "plt.title('p-val')\n",
    "plt.xticks(x, x_labels, rotation='vertical')\n",
    "plt.show()"
   ]
  },
  {
   "cell_type": "code",
   "execution_count": null,
   "metadata": {},
   "outputs": [],
   "source": [
    "df3"
   ]
  },
  {
   "cell_type": "markdown",
   "metadata": {},
   "source": [
    "# Second request"
   ]
  },
  {
   "cell_type": "code",
   "execution_count": null,
   "metadata": {},
   "outputs": [],
   "source": [
    "df = df.loc[df['Deltatime'] < 120]"
   ]
  },
  {
   "cell_type": "code",
   "execution_count": null,
   "metadata": {},
   "outputs": [],
   "source": [
    "new_york_dollar_per_mile_mean = df['$*minutes/mile'].mean()\n",
    "new_york_dollar_per_mile_std = df['$*minutes/mile'].std()"
   ]
  },
  {
   "cell_type": "code",
   "execution_count": null,
   "metadata": {},
   "outputs": [],
   "source": [
    "mean = df.groupby('Borough').mean()['$*minutes/mile'] #this groups by borough, calc the mean and takes only the column that i want to plot\n",
    "std = df.groupby('Borough').std()['$*minutes/mile'] #same as above, but for the standard deviaton"
   ]
  },
  {
   "cell_type": "code",
   "execution_count": null,
   "metadata": {},
   "outputs": [],
   "source": [
    "labels, values = zip(*Counter(df['$*minutes/mile'].round(decimals=1)).items())\n",
    "\n",
    "indexes = np.arange(len(labels))\n",
    "width = 2\n",
    "\n",
    "plt.bar(indexes, values, width)\n",
    "plt.show()"
   ]
  },
  {
   "cell_type": "code",
   "execution_count": null,
   "metadata": {},
   "outputs": [],
   "source": [
    "df2 = pd.DataFrame([mean, std], columns=[el for el in set(df['Borough'])],  index=['mean', 'std']) #combine the previous result in a dataframe"
   ]
  },
  {
   "cell_type": "code",
   "execution_count": null,
   "metadata": {
    "scrolled": true
   },
   "outputs": [],
   "source": [
    "df2"
   ]
  },
  {
   "cell_type": "code",
   "execution_count": null,
   "metadata": {},
   "outputs": [],
   "source": [
    "df2.plot(kind='bar')\n",
    "df2.T.plot(kind='bar')"
   ]
  },
  {
   "cell_type": "code",
   "execution_count": null,
   "metadata": {},
   "outputs": [],
   "source": [
    "df3 = pd.DataFrame(columns=[el for el in set(df['Borough'])],  index=['ttest', 'pval'])\n",
    "for borough in set(df['Borough']):\n",
    "    ttest_result = stat.ttest_ind(df.loc[df['Borough'] == borough]['$*minutes/mile'], df['$*minutes/mile'])\n",
    "    df3[borough] = pd.Series([ttest_result[0], ttest_result[1]], index=['ttest', 'pval'])"
   ]
  },
  {
   "cell_type": "code",
   "execution_count": null,
   "metadata": {},
   "outputs": [],
   "source": [
    "x = range(len(set(df3)))\n",
    "x_labels = set(df3)\n",
    "y = [df3[i][0] for i in x_labels]\n",
    "\n",
    "markerline, stemlines, baseline = plt.stem(x,y, '-.')\n",
    "plt.setp(baseline, color='orchid', linewidth=1)\n",
    "plt.title('TTest')\n",
    "plt.xticks(x, x_labels, rotation='vertical')\n",
    "plt.show()\n",
    "\n",
    "y = [df3[i][1] for i in x_labels]\n",
    "\n",
    "markerline, stemlines, baseline = plt.stem(x,y, '-.')\n",
    "plt.setp(baseline, color='orchid', linewidth=1)\n",
    "plt.title('p-val')\n",
    "plt.xticks(x, x_labels, rotation='vertical')\n",
    "plt.show()"
   ]
  },
  {
   "cell_type": "code",
   "execution_count": null,
   "metadata": {},
   "outputs": [],
   "source": []
  }
 ],
 "metadata": {
  "kernelspec": {
   "display_name": "Python 3",
   "language": "python",
   "name": "python3"
  },
  "language_info": {
   "codemirror_mode": {
    "name": "ipython",
    "version": 3
   },
   "file_extension": ".py",
   "mimetype": "text/x-python",
   "name": "python",
   "nbconvert_exporter": "python",
   "pygments_lexer": "ipython3",
   "version": "3.6.6"
  },
  "varInspector": {
   "cols": {
    "lenName": 16,
    "lenType": 16,
    "lenVar": 40
   },
   "kernels_config": {
    "python": {
     "delete_cmd_postfix": "",
     "delete_cmd_prefix": "del ",
     "library": "var_list.py",
     "varRefreshCmd": "print(var_dic_list())"
    },
    "r": {
     "delete_cmd_postfix": ") ",
     "delete_cmd_prefix": "rm(",
     "library": "var_list.r",
     "varRefreshCmd": "cat(var_dic_list()) "
    }
   },
   "types_to_exclude": [
    "module",
    "function",
    "builtin_function_or_method",
    "instance",
    "_Feature"
   ],
   "window_display": false
  }
 },
 "nbformat": 4,
 "nbformat_minor": 2
}
